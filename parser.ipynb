{
 "cells": [
  {
   "cell_type": "code",
   "execution_count": 132,
   "id": "ba436716",
   "metadata": {},
   "outputs": [],
   "source": [
    "import csv\n",
    "import re\n",
    "\n",
    "from array import array\n",
    "from copy import deepcopy\n",
    "from pathlib import Path\n",
    "from typing import Iterable"
   ]
  },
  {
   "cell_type": "code",
   "execution_count": 135,
   "id": "217205eb",
   "metadata": {},
   "outputs": [],
   "source": [
    "type DType = bool | int | float | str\n",
    "type DFrame = dict[str, Iterable]"
   ]
  },
  {
   "cell_type": "code",
   "execution_count": null,
   "id": "9d693a0b",
   "metadata": {},
   "outputs": [],
   "source": [
    "def cast_type(x: str) -> DType:\n",
    "    f = str\n",
    "\n",
    "    if re.fullmatch(r\"(?i)true|false\", x):\n",
    "        return x.lower() == \"true\"\n",
    "    elif re.fullmatch(r\"[+-]?\\d+\", x):\n",
    "        f = int\n",
    "    elif re.fullmatch(r\"[+-]?(\\d+\\.\\d*|\\.\\d+)([eE][+-]?\\d+)?|[+-]?\\d+[eE][+-]?\\d+\", x):\n",
    "        f = float\n",
    "\n",
    "    return f(x)\n",
    "\n",
    "\n",
    "def parse_csv(\n",
    "    path: Path, has_header: bool = True, encoding: str = \"utf8\", **kwargs\n",
    ") -> DFrame:\n",
    "    d = {}\n",
    "\n",
    "    with open(path, mode=\"r\", encoding=encoding) as f:\n",
    "        for idx, row in enumerate(csv.reader(f, **kwargs)):\n",
    "            if idx == 0:\n",
    "                if has_header:\n",
    "                    for header in row:\n",
    "                        d[header] = []\n",
    "                else:\n",
    "                    for i, v in enumerate(row):\n",
    "                        d[f\"col_{i}\"] = [cast_type(v)]\n",
    "\n",
    "            else:\n",
    "                for header, val in zip(d.keys(), row):\n",
    "                    d[header].append(cast_type(val))\n",
    "    d_arrays = {}\n",
    "\n",
    "    for k, xs in d.items():\n",
    "        if all(isinstance(v, bool) for v in xs):\n",
    "            d_arrays[k] = array(\"b\", xs)\n",
    "        elif all(isinstance(v, int) for v in xs):\n",
    "            d_arrays[k] = array(\"i\", xs)\n",
    "        elif all(isinstance(v, (int, float)) for v in xs):\n",
    "            d_arrays[k] = array(\"d\", (float(v) for v in xs))\n",
    "        else:\n",
    "            d_arrays[k] = xs\n",
    "\n",
    "    return d_arrays"
   ]
  },
  {
   "cell_type": "code",
   "execution_count": 120,
   "id": "cc580933",
   "metadata": {},
   "outputs": [
    {
     "data": {
      "text/plain": [
       "{'sepal.length': array('d', [5.1, 4.9, 4.7, 4.6, 5.0, 5.4, 4.6, 5.0, 4.4, 4.9, 5.4, 4.8, 4.8, 4.3, 5.8, 5.7, 5.4, 5.1, 5.7, 5.1, 5.4, 5.1, 4.6, 5.1, 4.8, 5.0, 5.0, 5.2, 5.2, 4.7, 4.8, 5.4, 5.2, 5.5, 4.9, 5.0, 5.5, 4.9, 4.4, 5.1, 5.0, 4.5, 4.4, 5.0, 5.1, 4.8, 5.1, 4.6, 5.3, 5.0, 7.0, 6.4, 6.9, 5.5, 6.5, 5.7, 6.3, 4.9, 6.6, 5.2, 5.0, 5.9, 6.0, 6.1, 5.6, 6.7, 5.6, 5.8, 6.2, 5.6, 5.9, 6.1, 6.3, 6.1, 6.4, 6.6, 6.8, 6.7, 6.0, 5.7, 5.5, 5.5, 5.8, 6.0, 5.4, 6.0, 6.7, 6.3, 5.6, 5.5, 5.5, 6.1, 5.8, 5.0, 5.6, 5.7, 5.7, 6.2, 5.1, 5.7, 6.3, 5.8, 7.1, 6.3, 6.5, 7.6, 4.9, 7.3, 6.7, 7.2, 6.5, 6.4, 6.8, 5.7, 5.8, 6.4, 6.5, 7.7, 7.7, 6.0, 6.9, 5.6, 7.7, 6.3, 6.7, 7.2, 6.2, 6.1, 6.4, 7.2, 7.4, 7.9, 6.4, 6.3, 6.1, 7.7, 6.3, 6.4, 6.0, 6.9, 6.7, 6.9, 5.8, 6.8, 6.7, 6.7, 6.3, 6.5, 6.2, 5.9]),\n",
       " 'sepal.width': array('d', [3.5, 3.0, 3.2, 3.1, 3.6, 3.9, 3.4, 3.4, 2.9, 3.1, 3.7, 3.4, 3.0, 3.0, 4.0, 4.4, 3.9, 3.5, 3.8, 3.8, 3.4, 3.7, 3.6, 3.3, 3.4, 3.0, 3.4, 3.5, 3.4, 3.2, 3.1, 3.4, 4.1, 4.2, 3.1, 3.2, 3.5, 3.6, 3.0, 3.4, 3.5, 2.3, 3.2, 3.5, 3.8, 3.0, 3.8, 3.2, 3.7, 3.3, 3.2, 3.2, 3.1, 2.3, 2.8, 2.8, 3.3, 2.4, 2.9, 2.7, 2.0, 3.0, 2.2, 2.9, 2.9, 3.1, 3.0, 2.7, 2.2, 2.5, 3.2, 2.8, 2.5, 2.8, 2.9, 3.0, 2.8, 3.0, 2.9, 2.6, 2.4, 2.4, 2.7, 2.7, 3.0, 3.4, 3.1, 2.3, 3.0, 2.5, 2.6, 3.0, 2.6, 2.3, 2.7, 3.0, 2.9, 2.9, 2.5, 2.8, 3.3, 2.7, 3.0, 2.9, 3.0, 3.0, 2.5, 2.9, 2.5, 3.6, 3.2, 2.7, 3.0, 2.5, 2.8, 3.2, 3.0, 3.8, 2.6, 2.2, 3.2, 2.8, 2.8, 2.7, 3.3, 3.2, 2.8, 3.0, 2.8, 3.0, 2.8, 3.8, 2.8, 2.8, 2.6, 3.0, 3.4, 3.1, 3.0, 3.1, 3.1, 3.1, 2.7, 3.2, 3.3, 3.0, 2.5, 3.0, 3.4, 3.0]),\n",
       " 'petal.length': array('d', [1.4, 1.4, 1.3, 1.5, 1.4, 1.7, 1.4, 1.5, 1.4, 1.5, 1.5, 1.6, 1.4, 1.1, 1.2, 1.5, 1.3, 1.4, 1.7, 1.5, 1.7, 1.5, 1.0, 1.7, 1.9, 1.6, 1.6, 1.5, 1.4, 1.6, 1.6, 1.5, 1.5, 1.4, 1.5, 1.2, 1.3, 1.4, 1.3, 1.5, 1.3, 1.3, 1.3, 1.6, 1.9, 1.4, 1.6, 1.4, 1.5, 1.4, 4.7, 4.5, 4.9, 4.0, 4.6, 4.5, 4.7, 3.3, 4.6, 3.9, 3.5, 4.2, 4.0, 4.7, 3.6, 4.4, 4.5, 4.1, 4.5, 3.9, 4.8, 4.0, 4.9, 4.7, 4.3, 4.4, 4.8, 5.0, 4.5, 3.5, 3.8, 3.7, 3.9, 5.1, 4.5, 4.5, 4.7, 4.4, 4.1, 4.0, 4.4, 4.6, 4.0, 3.3, 4.2, 4.2, 4.2, 4.3, 3.0, 4.1, 6.0, 5.1, 5.9, 5.6, 5.8, 6.6, 4.5, 6.3, 5.8, 6.1, 5.1, 5.3, 5.5, 5.0, 5.1, 5.3, 5.5, 6.7, 6.9, 5.0, 5.7, 4.9, 6.7, 4.9, 5.7, 6.0, 4.8, 4.9, 5.6, 5.8, 6.1, 6.4, 5.6, 5.1, 5.6, 6.1, 5.6, 5.5, 4.8, 5.4, 5.6, 5.1, 5.1, 5.9, 5.7, 5.2, 5.0, 5.2, 5.4, 5.1]),\n",
       " 'petal.width': array('d', [0.2, 0.2, 0.2, 0.2, 0.2, 0.4, 0.3, 0.2, 0.2, 0.1, 0.2, 0.2, 0.1, 0.1, 0.2, 0.4, 0.4, 0.3, 0.3, 0.3, 0.2, 0.4, 0.2, 0.5, 0.2, 0.2, 0.4, 0.2, 0.2, 0.2, 0.2, 0.4, 0.1, 0.2, 0.2, 0.2, 0.2, 0.1, 0.2, 0.2, 0.3, 0.3, 0.2, 0.6, 0.4, 0.3, 0.2, 0.2, 0.2, 0.2, 1.4, 1.5, 1.5, 1.3, 1.5, 1.3, 1.6, 1.0, 1.3, 1.4, 1.0, 1.5, 1.0, 1.4, 1.3, 1.4, 1.5, 1.0, 1.5, 1.1, 1.8, 1.3, 1.5, 1.2, 1.3, 1.4, 1.4, 1.7, 1.5, 1.0, 1.1, 1.0, 1.2, 1.6, 1.5, 1.6, 1.5, 1.3, 1.3, 1.3, 1.2, 1.4, 1.2, 1.0, 1.3, 1.2, 1.3, 1.3, 1.1, 1.3, 2.5, 1.9, 2.1, 1.8, 2.2, 2.1, 1.7, 1.8, 1.8, 2.5, 2.0, 1.9, 2.1, 2.0, 2.4, 2.3, 1.8, 2.2, 2.3, 1.5, 2.3, 2.0, 2.0, 1.8, 2.1, 1.8, 1.8, 1.8, 2.1, 1.6, 1.9, 2.0, 2.2, 1.5, 1.4, 2.3, 2.4, 1.8, 1.8, 2.1, 2.4, 2.3, 1.9, 2.3, 2.5, 2.3, 1.9, 2.0, 2.3, 1.8]),\n",
       " 'variety': ['Setosa',\n",
       "  'Setosa',\n",
       "  'Setosa',\n",
       "  'Setosa',\n",
       "  'Setosa',\n",
       "  'Setosa',\n",
       "  'Setosa',\n",
       "  'Setosa',\n",
       "  'Setosa',\n",
       "  'Setosa',\n",
       "  'Setosa',\n",
       "  'Setosa',\n",
       "  'Setosa',\n",
       "  'Setosa',\n",
       "  'Setosa',\n",
       "  'Setosa',\n",
       "  'Setosa',\n",
       "  'Setosa',\n",
       "  'Setosa',\n",
       "  'Setosa',\n",
       "  'Setosa',\n",
       "  'Setosa',\n",
       "  'Setosa',\n",
       "  'Setosa',\n",
       "  'Setosa',\n",
       "  'Setosa',\n",
       "  'Setosa',\n",
       "  'Setosa',\n",
       "  'Setosa',\n",
       "  'Setosa',\n",
       "  'Setosa',\n",
       "  'Setosa',\n",
       "  'Setosa',\n",
       "  'Setosa',\n",
       "  'Setosa',\n",
       "  'Setosa',\n",
       "  'Setosa',\n",
       "  'Setosa',\n",
       "  'Setosa',\n",
       "  'Setosa',\n",
       "  'Setosa',\n",
       "  'Setosa',\n",
       "  'Setosa',\n",
       "  'Setosa',\n",
       "  'Setosa',\n",
       "  'Setosa',\n",
       "  'Setosa',\n",
       "  'Setosa',\n",
       "  'Setosa',\n",
       "  'Setosa',\n",
       "  'Versicolor',\n",
       "  'Versicolor',\n",
       "  'Versicolor',\n",
       "  'Versicolor',\n",
       "  'Versicolor',\n",
       "  'Versicolor',\n",
       "  'Versicolor',\n",
       "  'Versicolor',\n",
       "  'Versicolor',\n",
       "  'Versicolor',\n",
       "  'Versicolor',\n",
       "  'Versicolor',\n",
       "  'Versicolor',\n",
       "  'Versicolor',\n",
       "  'Versicolor',\n",
       "  'Versicolor',\n",
       "  'Versicolor',\n",
       "  'Versicolor',\n",
       "  'Versicolor',\n",
       "  'Versicolor',\n",
       "  'Versicolor',\n",
       "  'Versicolor',\n",
       "  'Versicolor',\n",
       "  'Versicolor',\n",
       "  'Versicolor',\n",
       "  'Versicolor',\n",
       "  'Versicolor',\n",
       "  'Versicolor',\n",
       "  'Versicolor',\n",
       "  'Versicolor',\n",
       "  'Versicolor',\n",
       "  'Versicolor',\n",
       "  'Versicolor',\n",
       "  'Versicolor',\n",
       "  'Versicolor',\n",
       "  'Versicolor',\n",
       "  'Versicolor',\n",
       "  'Versicolor',\n",
       "  'Versicolor',\n",
       "  'Versicolor',\n",
       "  'Versicolor',\n",
       "  'Versicolor',\n",
       "  'Versicolor',\n",
       "  'Versicolor',\n",
       "  'Versicolor',\n",
       "  'Versicolor',\n",
       "  'Versicolor',\n",
       "  'Versicolor',\n",
       "  'Versicolor',\n",
       "  'Versicolor',\n",
       "  'Virginica',\n",
       "  'Virginica',\n",
       "  'Virginica',\n",
       "  'Virginica',\n",
       "  'Virginica',\n",
       "  'Virginica',\n",
       "  'Virginica',\n",
       "  'Virginica',\n",
       "  'Virginica',\n",
       "  'Virginica',\n",
       "  'Virginica',\n",
       "  'Virginica',\n",
       "  'Virginica',\n",
       "  'Virginica',\n",
       "  'Virginica',\n",
       "  'Virginica',\n",
       "  'Virginica',\n",
       "  'Virginica',\n",
       "  'Virginica',\n",
       "  'Virginica',\n",
       "  'Virginica',\n",
       "  'Virginica',\n",
       "  'Virginica',\n",
       "  'Virginica',\n",
       "  'Virginica',\n",
       "  'Virginica',\n",
       "  'Virginica',\n",
       "  'Virginica',\n",
       "  'Virginica',\n",
       "  'Virginica',\n",
       "  'Virginica',\n",
       "  'Virginica',\n",
       "  'Virginica',\n",
       "  'Virginica',\n",
       "  'Virginica',\n",
       "  'Virginica',\n",
       "  'Virginica',\n",
       "  'Virginica',\n",
       "  'Virginica',\n",
       "  'Virginica',\n",
       "  'Virginica',\n",
       "  'Virginica',\n",
       "  'Virginica',\n",
       "  'Virginica',\n",
       "  'Virginica',\n",
       "  'Virginica',\n",
       "  'Virginica',\n",
       "  'Virginica',\n",
       "  'Virginica',\n",
       "  'Virginica']}"
      ]
     },
     "execution_count": 120,
     "metadata": {},
     "output_type": "execute_result"
    }
   ],
   "source": [
    "iris = parse_csv(\"iris.csv\")\n",
    "iris"
   ]
  },
  {
   "cell_type": "code",
   "execution_count": null,
   "id": "eca6d890",
   "metadata": {},
   "outputs": [
    {
     "data": {
      "text/plain": [
       "True"
      ]
     },
     "execution_count": 131,
     "metadata": {},
     "output_type": "execute_result"
    }
   ],
   "source": [
    "def columns(df: DFrame) -> set[str]:\n",
    "    return set(df.keys())\n",
    "\n",
    "\n",
    "def has_column(df: DFrame, col: str) -> bool:\n",
    "    return col in columns(df)\n",
    "\n",
    "\n",
    "columns(iris)\n",
    "has_column(iris, \"variety\")"
   ]
  },
  {
   "cell_type": "code",
   "execution_count": 136,
   "id": "abd2e014",
   "metadata": {},
   "outputs": [],
   "source": [
    "def add_column(frame: DFrame, col_name: str, data: Iterable) -> DFrame:\n",
    "    new_frame = deepcopy(frame)\n",
    "    new_frame[col_name] = data\n",
    "    return new_frame"
   ]
  },
  {
   "cell_type": "code",
   "execution_count": 137,
   "id": "db61e95e",
   "metadata": {},
   "outputs": [
    {
     "data": {
      "text/plain": [
       "{'is_active': array('b', [1, 0, 1, 0]),\n",
       " 'age': array('i', [28, 35, 22, 30]),\n",
       " 'weight': array('d', [72.5, 81.0, 65.2, 70.0]),\n",
       " 'name': ['Alice', 'Bob', 'Charlie', 'Dana']}"
      ]
     },
     "execution_count": 137,
     "metadata": {},
     "output_type": "execute_result"
    }
   ],
   "source": [
    "df_all = parse_csv(\"allTypes.csv\")\n",
    "df_all"
   ]
  },
  {
   "cell_type": "code",
   "execution_count": null,
   "id": "d969517a",
   "metadata": {},
   "outputs": [],
   "source": [
    "ageTimesWeight = []\n",
    "\n",
    "for a, w in zip(df_all[\"age\"], df_all[\"weight\"]):\n",
    "    ageTimesWeight.append(a * w)\n",
    "\n",
    "df_new = add_column(df_all, \"testCol\", ageTimesWeight)"
   ]
  },
  {
   "cell_type": "code",
   "execution_count": 141,
   "id": "bcc91284",
   "metadata": {},
   "outputs": [
    {
     "data": {
      "text/plain": [
       "{'is_active': array('b', [1, 0, 1, 0]),\n",
       " 'age': array('i', [28, 35, 22, 30]),\n",
       " 'weight': array('d', [72.5, 81.0, 65.2, 70.0]),\n",
       " 'name': ['Alice', 'Bob', 'Charlie', 'Dana'],\n",
       " 'testCol': [2030.0, 2835.0, 1434.4, 2100.0]}"
      ]
     },
     "execution_count": 141,
     "metadata": {},
     "output_type": "execute_result"
    }
   ],
   "source": [
    "df_new"
   ]
  },
  {
   "cell_type": "code",
   "execution_count": 142,
   "id": "6022c5af",
   "metadata": {},
   "outputs": [
    {
     "data": {
      "text/plain": [
       "{'is_active': array('b', [1, 0, 1, 0]),\n",
       " 'age': array('i', [28, 35, 22, 30]),\n",
       " 'weight': array('d', [72.5, 81.0, 65.2, 70.0]),\n",
       " 'name': ['Alice', 'Bob', 'Charlie', 'Dana']}"
      ]
     },
     "execution_count": 142,
     "metadata": {},
     "output_type": "execute_result"
    }
   ],
   "source": [
    "df_all"
   ]
  }
 ],
 "metadata": {
  "kernelspec": {
   "display_name": ".venv",
   "language": "python",
   "name": "python3"
  },
  "language_info": {
   "codemirror_mode": {
    "name": "ipython",
    "version": 3
   },
   "file_extension": ".py",
   "mimetype": "text/x-python",
   "name": "python",
   "nbconvert_exporter": "python",
   "pygments_lexer": "ipython3",
   "version": "3.13.2"
  }
 },
 "nbformat": 4,
 "nbformat_minor": 5
}
